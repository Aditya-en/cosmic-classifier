{
 "cells": [
  {
   "cell_type": "code",
   "execution_count": 1,
   "id": "f012f66e-9cff-459b-883f-9c0cbaa1017c",
   "metadata": {},
   "outputs": [],
   "source": [
    "import pandas as pd\n",
    "df_train = pd.read_csv(\"thermoracleTrain.csv\")\n",
    "df_test = pd.read_csv(\"thermoracleTest.csv\")"
   ]
  },
  {
   "cell_type": "code",
   "execution_count": 2,
   "id": "481f8a7e-f7be-468c-93a6-61b30071e51b",
   "metadata": {},
   "outputs": [
    {
     "data": {
      "text/html": [
       "<div>\n",
       "<style scoped>\n",
       "    .dataframe tbody tr th:only-of-type {\n",
       "        vertical-align: middle;\n",
       "    }\n",
       "\n",
       "    .dataframe tbody tr th {\n",
       "        vertical-align: top;\n",
       "    }\n",
       "\n",
       "    .dataframe thead th {\n",
       "        text-align: right;\n",
       "    }\n",
       "</style>\n",
       "<table border=\"1\" class=\"dataframe\">\n",
       "  <thead>\n",
       "    <tr style=\"text-align: right;\">\n",
       "      <th></th>\n",
       "      <th>Atmospheric Density</th>\n",
       "      <th>Surface Temperature</th>\n",
       "      <th>Gravity</th>\n",
       "      <th>Water Content</th>\n",
       "      <th>Mineral Abundance</th>\n",
       "      <th>Orbital Period</th>\n",
       "      <th>Proximity to Star</th>\n",
       "      <th>Magnetic Field Strength</th>\n",
       "      <th>Radiation Levels</th>\n",
       "      <th>Atmospheric Composition Index</th>\n",
       "      <th>Prediction</th>\n",
       "    </tr>\n",
       "  </thead>\n",
       "  <tbody>\n",
       "    <tr>\n",
       "      <th>0</th>\n",
       "      <td>0.472806</td>\n",
       "      <td>NaN</td>\n",
       "      <td>-0.313872</td>\n",
       "      <td>-2.089299</td>\n",
       "      <td>-0.152201</td>\n",
       "      <td>-0.885649</td>\n",
       "      <td>0.900105</td>\n",
       "      <td>NaN</td>\n",
       "      <td>Category_6</td>\n",
       "      <td>0.692907</td>\n",
       "      <td>5.0</td>\n",
       "    </tr>\n",
       "    <tr>\n",
       "      <th>1</th>\n",
       "      <td>4.180154</td>\n",
       "      <td>-1.157515</td>\n",
       "      <td>2.430956</td>\n",
       "      <td>-1.595850</td>\n",
       "      <td>-3.188678</td>\n",
       "      <td>-0.609434</td>\n",
       "      <td>-0.199828</td>\n",
       "      <td>Category_9</td>\n",
       "      <td>Category_9</td>\n",
       "      <td>NaN</td>\n",
       "      <td>0.0</td>\n",
       "    </tr>\n",
       "    <tr>\n",
       "      <th>2</th>\n",
       "      <td>-0.129008</td>\n",
       "      <td>1.621592</td>\n",
       "      <td>-0.785741</td>\n",
       "      <td>2.081196</td>\n",
       "      <td>-1.413796</td>\n",
       "      <td>-0.095152</td>\n",
       "      <td>-3.502577</td>\n",
       "      <td>NaN</td>\n",
       "      <td>Category_8</td>\n",
       "      <td>-0.677182</td>\n",
       "      <td>4.0</td>\n",
       "    </tr>\n",
       "    <tr>\n",
       "      <th>3</th>\n",
       "      <td>-3.122000</td>\n",
       "      <td>-2.299818</td>\n",
       "      <td>1.072092</td>\n",
       "      <td>0.353524</td>\n",
       "      <td>-0.192529</td>\n",
       "      <td>2.917067</td>\n",
       "      <td>-1.972329</td>\n",
       "      <td>NaN</td>\n",
       "      <td>Category_11</td>\n",
       "      <td>0.109429</td>\n",
       "      <td>1.0</td>\n",
       "    </tr>\n",
       "    <tr>\n",
       "      <th>4</th>\n",
       "      <td>-1.459426</td>\n",
       "      <td>2.890268</td>\n",
       "      <td>0.148757</td>\n",
       "      <td>-0.804439</td>\n",
       "      <td>0.494875</td>\n",
       "      <td>0.044910</td>\n",
       "      <td>-0.438796</td>\n",
       "      <td>Category_6</td>\n",
       "      <td>Category_10</td>\n",
       "      <td>0.407941</td>\n",
       "      <td>9.0</td>\n",
       "    </tr>\n",
       "  </tbody>\n",
       "</table>\n",
       "</div>"
      ],
      "text/plain": [
       "   Atmospheric Density  Surface Temperature   Gravity  Water Content  \\\n",
       "0             0.472806                  NaN -0.313872      -2.089299   \n",
       "1             4.180154            -1.157515  2.430956      -1.595850   \n",
       "2            -0.129008             1.621592 -0.785741       2.081196   \n",
       "3            -3.122000            -2.299818  1.072092       0.353524   \n",
       "4            -1.459426             2.890268  0.148757      -0.804439   \n",
       "\n",
       "   Mineral Abundance  Orbital Period  Proximity to Star  \\\n",
       "0          -0.152201       -0.885649           0.900105   \n",
       "1          -3.188678       -0.609434          -0.199828   \n",
       "2          -1.413796       -0.095152          -3.502577   \n",
       "3          -0.192529        2.917067          -1.972329   \n",
       "4           0.494875        0.044910          -0.438796   \n",
       "\n",
       "  Magnetic Field Strength Radiation Levels  Atmospheric Composition Index  \\\n",
       "0                     NaN       Category_6                       0.692907   \n",
       "1              Category_9       Category_9                            NaN   \n",
       "2                     NaN       Category_8                      -0.677182   \n",
       "3                     NaN      Category_11                       0.109429   \n",
       "4              Category_6      Category_10                       0.407941   \n",
       "\n",
       "   Prediction  \n",
       "0         5.0  \n",
       "1         0.0  \n",
       "2         4.0  \n",
       "3         1.0  \n",
       "4         9.0  "
      ]
     },
     "execution_count": 2,
     "metadata": {},
     "output_type": "execute_result"
    }
   ],
   "source": [
    "df_train.head()"
   ]
  },
  {
   "cell_type": "code",
   "execution_count": 3,
   "id": "e5cdc578-aeb5-4a87-99ee-3087392d2bd9",
   "metadata": {},
   "outputs": [
    {
     "data": {
      "text/plain": [
       "Index(['Atmospheric Density', 'Surface Temperature', 'Gravity',\n",
       "       'Water Content', 'Mineral Abundance', 'Orbital Period',\n",
       "       'Proximity to Star', 'Magnetic Field Strength', 'Radiation Levels',\n",
       "       'Atmospheric Composition Index', 'Prediction'],\n",
       "      dtype='object')"
      ]
     },
     "execution_count": 3,
     "metadata": {},
     "output_type": "execute_result"
    }
   ],
   "source": [
    "df_train.columns"
   ]
  },
  {
   "cell_type": "code",
   "execution_count": 6,
   "id": "63227a6d-1aaf-4b2a-b2d2-980918c76aa9",
   "metadata": {},
   "outputs": [],
   "source": [
    "df = df_train"
   ]
  },
  {
   "cell_type": "code",
   "execution_count": 9,
   "id": "550f034b-0fae-46ca-8dd7-ca63bb150b37",
   "metadata": {},
   "outputs": [
    {
     "name": "stdout",
     "output_type": "stream",
     "text": [
      "<class 'pandas.core.frame.DataFrame'>\n",
      "RangeIndex: 60000 entries, 0 to 59999\n",
      "Data columns (total 11 columns):\n",
      " #   Column                         Non-Null Count  Dtype  \n",
      "---  ------                         --------------  -----  \n",
      " 0   Atmospheric Density            57016 non-null  float64\n",
      " 1   Surface Temperature            56968 non-null  float64\n",
      " 2   Gravity                        57016 non-null  float64\n",
      " 3   Water Content                  56923 non-null  float64\n",
      " 4   Mineral Abundance              57079 non-null  float64\n",
      " 5   Orbital Period                 57003 non-null  float64\n",
      " 6   Proximity to Star              57055 non-null  float64\n",
      " 7   Magnetic Field Strength        56942 non-null  object \n",
      " 8   Radiation Levels               56979 non-null  object \n",
      " 9   Atmospheric Composition Index  57058 non-null  float64\n",
      " 10  Prediction                     56961 non-null  float64\n",
      "dtypes: float64(9), object(2)\n",
      "memory usage: 5.0+ MB\n"
     ]
    }
   ],
   "source": [
    "df.info()"
   ]
  },
  {
   "cell_type": "code",
   "execution_count": 8,
   "id": "adebde7f-54c3-4f18-b5c0-baae973dbc14",
   "metadata": {},
   "outputs": [
    {
     "data": {
      "text/plain": [
       "Atmospheric Density              2984\n",
       "Surface Temperature              3032\n",
       "Gravity                          2984\n",
       "Water Content                    3077\n",
       "Mineral Abundance                2921\n",
       "Orbital Period                   2997\n",
       "Proximity to Star                2945\n",
       "Magnetic Field Strength          3058\n",
       "Radiation Levels                 3021\n",
       "Atmospheric Composition Index    2942\n",
       "Prediction                       3039\n",
       "dtype: int64"
      ]
     },
     "execution_count": 8,
     "metadata": {},
     "output_type": "execute_result"
    }
   ],
   "source": [
    "df.isna().sum()"
   ]
  },
  {
   "cell_type": "code",
   "execution_count": 31,
   "id": "673de5ec-0259-4de9-baf3-a0e2b2c874ef",
   "metadata": {},
   "outputs": [
    {
     "data": {
      "text/plain": [
       "count    57003.000000\n",
       "mean        -0.001043\n",
       "std          1.511685\n",
       "min         -4.801046\n",
       "25%         -1.048920\n",
       "50%          0.036651\n",
       "75%          1.058800\n",
       "max          5.111014\n",
       "Name: Orbital Period, dtype: float64"
      ]
     },
     "execution_count": 31,
     "metadata": {},
     "output_type": "execute_result"
    }
   ],
   "source": [
    "df.describe()\n",
    "df[\"Orbital Period\"].describe()"
   ]
  },
  {
   "cell_type": "code",
   "execution_count": 24,
   "id": "67b76cc5-22f7-4bb3-9214-ad26e27f88c0",
   "metadata": {},
   "outputs": [],
   "source": [
    "# ma = max(df[\"Atmospheric Composition Index\"])\n",
    "# mi = min(df[\"Atmospheric Composition Index\"])\n",
    "ma = max(df[\"Mineral Abundance\"])\n",
    "mi = min(df[\"Mineral Abundance\"])\n",
    "def reverse_scaling(x, min_val=mi, max_val=ma):\n",
    "    a = max_val - min_val  \n",
    "    b = min_val\n",
    "    return (x - b) / a\n",
    "\n",
    "df[\"Mineral Abundance\"] = df[\"Mineral Abundance\"].apply(reverse_scaling)\n",
    "\n",
    "# df[\"Atmospheric Composition Index\"] = df[\"Atmospheric Composition Index\"].apply(reverse_scaling)\n",
    "# rescaled.describe()"
   ]
  },
  {
   "cell_type": "code",
   "execution_count": 19,
   "id": "1fdfd10f-7d49-4e0d-b7a5-dff6fdb79ccc",
   "metadata": {},
   "outputs": [
    {
     "data": {
      "text/plain": [
       "count    57058.000000\n",
       "mean         0.509883\n",
       "std          0.142531\n",
       "min          0.000000\n",
       "25%          0.419545\n",
       "50%          0.516127\n",
       "75%          0.610302\n",
       "max          1.000000\n",
       "Name: Atmospheric Composition Index, dtype: float64"
      ]
     },
     "execution_count": 19,
     "metadata": {},
     "output_type": "execute_result"
    }
   ],
   "source": [
    "atmos_rescaled = df[\"Atmospheric Composition Index\"] = df[\"Atmospheric Composition Index\"].apply(reverse_scaling)\n",
    "atmos_rescaled.describe()"
   ]
  },
  {
   "cell_type": "code",
   "execution_count": 23,
   "id": "8ce7c4f6-0662-490f-8479-4bbc1e180828",
   "metadata": {},
   "outputs": [
    {
     "data": {
      "text/plain": [
       "count    56968.000000\n",
       "mean         5.503239\n",
       "std          1.936598\n",
       "min          0.000000\n",
       "25%          4.076741\n",
       "50%          5.173490\n",
       "75%          7.007173\n",
       "max         11.141621\n",
       "Name: Surface Temperature, dtype: float64"
      ]
     },
     "execution_count": 23,
     "metadata": {},
     "output_type": "execute_result"
    }
   ],
   "source": [
    "shifted_temp = df[\"Surface Temperature\"] + abs(df[\"Surface Temperature\"].min())\n",
    "df[\"Surface Temperature\"] = shifted_temp\n",
    "shifted_temp.describe()"
   ]
  },
  {
   "cell_type": "code",
   "execution_count": 20,
   "id": "0de64b97-69f4-4889-9175-e7f48f793bb2",
   "metadata": {},
   "outputs": [
    {
     "data": {
      "text/plain": [
       "count    56923.000000\n",
       "mean         0.001938\n",
       "std          1.689267\n",
       "min         -5.816755\n",
       "25%         -1.218870\n",
       "50%         -0.004676\n",
       "75%          1.063391\n",
       "max          6.287045\n",
       "Name: Water Content, dtype: float64"
      ]
     },
     "execution_count": 20,
     "metadata": {},
     "output_type": "execute_result"
    }
   ],
   "source": [
    "df[\"Water Content\"].describe()"
   ]
  },
  {
   "cell_type": "code",
   "execution_count": 22,
   "id": "6be5a312-a381-499b-ad68-c76eb72d2a2f",
   "metadata": {},
   "outputs": [
    {
     "name": "stdout",
     "output_type": "stream",
     "text": [
      "count    56923.000000\n",
      "mean         0.480733\n",
      "std          0.139565\n",
      "min          0.000000\n",
      "25%          0.379871\n",
      "50%          0.480186\n",
      "75%          0.568429\n",
      "max          1.000000\n",
      "Name: Water Content, dtype: float64\n"
     ]
    }
   ],
   "source": [
    "ma = max(df[\"Water Content\"])\n",
    "mi = min(df[\"Water Content\"])\n",
    "def reverse_water_content(y, min_val=mi, max_val=ma):\n",
    "    a = (max_val - min_val) / 100.0\n",
    "    b = min_val\n",
    "    return ((y - b) / a)/100\n",
    "\n",
    "df[\"Water Content\"] = df[\"Water Content\"].apply(reverse_water_content)\n",
    "print(df[\"Water Content\"].describe())\n"
   ]
  },
  {
   "cell_type": "code",
   "execution_count": 26,
   "id": "e071af68-cf0d-4db1-a93c-115e804eac7b",
   "metadata": {},
   "outputs": [
    {
     "name": "stdout",
     "output_type": "stream",
     "text": [
      "count    57016.000000\n",
      "mean         5.553408\n",
      "std          1.804605\n",
      "min          0.000000\n",
      "25%          4.274876\n",
      "50%          5.600108\n",
      "75%          6.809310\n",
      "max         11.584167\n",
      "Name: Gravity, dtype: float64\n"
     ]
    }
   ],
   "source": [
    "gravity_shift = abs(df[\"Gravity\"].min())\n",
    "df[\"Gravity\"] = df[\"Gravity\"] + gravity_shift\n",
    "print(df[\"Gravity\"].describe())"
   ]
  },
  {
   "cell_type": "code",
   "execution_count": 32,
   "id": "fd25d825-6eaf-4016-b74b-1160727cc1c9",
   "metadata": {},
   "outputs": [
    {
     "name": "stdout",
     "output_type": "stream",
     "text": [
      "Atmospheric Density after correction:\n",
      " count    57016.000000\n",
      "mean         4.364641\n",
      "std          2.263527\n",
      "min          0.000000\n",
      "25%          2.809033\n",
      "50%          4.176173\n",
      "75%          5.672956\n",
      "max         13.688861\n",
      "Name: Atmospheric Density, dtype: float64\n",
      "Orbital Period after correction:\n",
      " count    57003.000000\n",
      "mean         4.800003\n",
      "std          1.511685\n",
      "min          0.000000\n",
      "25%          3.752127\n",
      "50%          4.837698\n",
      "75%          5.859846\n",
      "max          9.912061\n",
      "Name: Orbital Period, dtype: float64\n",
      "Proximity to Star after correction:\n",
      " count    57055.000000\n",
      "mean         4.537375\n",
      "std          1.316682\n",
      "min          0.000000\n",
      "25%          3.600090\n",
      "50%          4.475185\n",
      "75%          5.425335\n",
      "max          9.479886\n",
      "Name: Proximity to Star, dtype: float64\n"
     ]
    }
   ],
   "source": [
    "atmo_shift = abs(df[\"Atmospheric Density\"].min())\n",
    "df[\"Atmospheric Density\"] = df[\"Atmospheric Density\"] + atmo_shift\n",
    "\n",
    "orbital_shift = abs(df[\"Orbital Period\"].min())\n",
    "df[\"Orbital Period\"] = df[\"Orbital Period\"] + orbital_shift\n",
    "\n",
    "proximity_shift = abs(df[\"Proximity to Star\"].min())\n",
    "df[\"Proximity to Star\"] = df[\"Proximity to Star\"] + proximity_shift\n",
    "\n",
    "print(\"Atmospheric Density after correction:\\n\", df[\"Atmospheric Density\"].describe())\n",
    "print(\"Orbital Period after correction:\\n\", df[\"Orbital Period\"].describe())\n",
    "print(\"Proximity to Star after correction:\\n\", df[\"Proximity to Star\"].describe())\n"
   ]
  },
  {
   "cell_type": "code",
   "execution_count": 37,
   "id": "2363c84f-21cf-4887-9a94-891022954132",
   "metadata": {},
   "outputs": [
    {
     "data": {
      "text/plain": [
       "0            NaN\n",
       "1     Category_9\n",
       "2            NaN\n",
       "3            NaN\n",
       "4     Category_6\n",
       "5    Category_10\n",
       "6     Category_8\n",
       "7    Category_12\n",
       "8     Category_8\n",
       "9    Category_10\n",
       "Name: Magnetic Field Strength, dtype: object"
      ]
     },
     "execution_count": 37,
     "metadata": {},
     "output_type": "execute_result"
    }
   ],
   "source": [
    "# df[\"Radiation Levels\"].head(10)\n",
    "df[\"Magnetic Field Strength\"].head(10)"
   ]
  },
  {
   "cell_type": "code",
   "execution_count": null,
   "id": "fa0445bc-af42-4699-acc7-c34fb97d3358",
   "metadata": {},
   "outputs": [
    {
     "name": "stdout",
     "output_type": "stream",
     "text": [
      "count    56979.000000\n",
      "mean         8.768810\n",
      "std          2.234496\n",
      "min          1.000000\n",
      "25%          7.000000\n",
      "50%          9.000000\n",
      "75%         10.000000\n",
      "max         20.000000\n",
      "Name: Radiation Levels, dtype: float64\n",
      "count    56942.000000\n",
      "mean         9.449879\n",
      "std          2.658860\n",
      "min          1.000000\n",
      "25%          8.000000\n",
      "50%          9.000000\n",
      "75%         11.000000\n",
      "max         20.000000\n",
      "Name: Magnetic Field Strength, dtype: float64\n"
     ]
    }
   ],
   "source": [
    "import re\n",
    "\n",
    "def extract_category(value):\n",
    "    if isinstance(value, str):\n",
    "        match = re.search(r'Category_(\\d+)', value)\n",
    "        if match:\n",
    "            return int(match.group(1))\n",
    "    return value\n",
    "\n",
    "df[\"Radiation Levels\"] = df[\"Radiation Levels\"].apply(extract_category)\n",
    "df[\"Magnetic Field Strength\"] = df[\"Magnetic Field Strength\"].apply(extract_category)\n",
    "\n",
    "print(df[\"Radiation Levels\"].describe())\n",
    "print(df[\"Magnetic Field Strength\"].describe())"
   ]
  },
  {
   "cell_type": "code",
   "execution_count": 41,
   "id": "89a81961-e427-418b-a7aa-81af5b66bb3e",
   "metadata": {},
   "outputs": [
    {
     "data": {
      "text/html": [
       "<div>\n",
       "<style scoped>\n",
       "    .dataframe tbody tr th:only-of-type {\n",
       "        vertical-align: middle;\n",
       "    }\n",
       "\n",
       "    .dataframe tbody tr th {\n",
       "        vertical-align: top;\n",
       "    }\n",
       "\n",
       "    .dataframe thead th {\n",
       "        text-align: right;\n",
       "    }\n",
       "</style>\n",
       "<table border=\"1\" class=\"dataframe\">\n",
       "  <thead>\n",
       "    <tr style=\"text-align: right;\">\n",
       "      <th></th>\n",
       "      <th>Atmospheric Density</th>\n",
       "      <th>Surface Temperature</th>\n",
       "      <th>Gravity</th>\n",
       "      <th>Water Content</th>\n",
       "      <th>Mineral Abundance</th>\n",
       "      <th>Orbital Period</th>\n",
       "      <th>Proximity to Star</th>\n",
       "      <th>Magnetic Field Strength</th>\n",
       "      <th>Radiation Levels</th>\n",
       "      <th>Atmospheric Composition Index</th>\n",
       "      <th>Prediction</th>\n",
       "    </tr>\n",
       "  </thead>\n",
       "  <tbody>\n",
       "    <tr>\n",
       "      <th>count</th>\n",
       "      <td>57016.000000</td>\n",
       "      <td>56968.000000</td>\n",
       "      <td>57016.000000</td>\n",
       "      <td>56923.000000</td>\n",
       "      <td>57079.000000</td>\n",
       "      <td>57003.000000</td>\n",
       "      <td>57055.000000</td>\n",
       "      <td>56942.000000</td>\n",
       "      <td>56979.000000</td>\n",
       "      <td>57058.000000</td>\n",
       "      <td>56961.000000</td>\n",
       "    </tr>\n",
       "    <tr>\n",
       "      <th>mean</th>\n",
       "      <td>4.364641</td>\n",
       "      <td>5.503239</td>\n",
       "      <td>5.553408</td>\n",
       "      <td>0.480733</td>\n",
       "      <td>0.476168</td>\n",
       "      <td>4.800003</td>\n",
       "      <td>4.537375</td>\n",
       "      <td>9.449879</td>\n",
       "      <td>8.768810</td>\n",
       "      <td>0.509883</td>\n",
       "      <td>4.454381</td>\n",
       "    </tr>\n",
       "    <tr>\n",
       "      <th>std</th>\n",
       "      <td>2.263527</td>\n",
       "      <td>1.936598</td>\n",
       "      <td>1.804605</td>\n",
       "      <td>0.139565</td>\n",
       "      <td>0.150592</td>\n",
       "      <td>1.511685</td>\n",
       "      <td>1.316682</td>\n",
       "      <td>2.658860</td>\n",
       "      <td>2.234496</td>\n",
       "      <td>0.142531</td>\n",
       "      <td>2.890055</td>\n",
       "    </tr>\n",
       "    <tr>\n",
       "      <th>min</th>\n",
       "      <td>0.000000</td>\n",
       "      <td>0.000000</td>\n",
       "      <td>0.000000</td>\n",
       "      <td>0.000000</td>\n",
       "      <td>0.000000</td>\n",
       "      <td>0.000000</td>\n",
       "      <td>0.000000</td>\n",
       "      <td>1.000000</td>\n",
       "      <td>1.000000</td>\n",
       "      <td>0.000000</td>\n",
       "      <td>0.000000</td>\n",
       "    </tr>\n",
       "    <tr>\n",
       "      <th>25%</th>\n",
       "      <td>2.809033</td>\n",
       "      <td>4.076741</td>\n",
       "      <td>4.274876</td>\n",
       "      <td>0.379871</td>\n",
       "      <td>0.375083</td>\n",
       "      <td>3.752127</td>\n",
       "      <td>3.600090</td>\n",
       "      <td>8.000000</td>\n",
       "      <td>7.000000</td>\n",
       "      <td>0.419545</td>\n",
       "      <td>2.000000</td>\n",
       "    </tr>\n",
       "    <tr>\n",
       "      <th>50%</th>\n",
       "      <td>4.176173</td>\n",
       "      <td>5.173490</td>\n",
       "      <td>5.600108</td>\n",
       "      <td>0.480186</td>\n",
       "      <td>0.479990</td>\n",
       "      <td>4.837698</td>\n",
       "      <td>4.475185</td>\n",
       "      <td>9.000000</td>\n",
       "      <td>9.000000</td>\n",
       "      <td>0.516127</td>\n",
       "      <td>4.000000</td>\n",
       "    </tr>\n",
       "    <tr>\n",
       "      <th>75%</th>\n",
       "      <td>5.672956</td>\n",
       "      <td>7.007173</td>\n",
       "      <td>6.809310</td>\n",
       "      <td>0.568429</td>\n",
       "      <td>0.578989</td>\n",
       "      <td>5.859846</td>\n",
       "      <td>5.425335</td>\n",
       "      <td>11.000000</td>\n",
       "      <td>10.000000</td>\n",
       "      <td>0.610302</td>\n",
       "      <td>7.000000</td>\n",
       "    </tr>\n",
       "    <tr>\n",
       "      <th>max</th>\n",
       "      <td>13.688861</td>\n",
       "      <td>11.141621</td>\n",
       "      <td>11.584167</td>\n",
       "      <td>1.000000</td>\n",
       "      <td>1.000000</td>\n",
       "      <td>9.912061</td>\n",
       "      <td>9.479886</td>\n",
       "      <td>20.000000</td>\n",
       "      <td>20.000000</td>\n",
       "      <td>1.000000</td>\n",
       "      <td>9.000000</td>\n",
       "    </tr>\n",
       "  </tbody>\n",
       "</table>\n",
       "</div>"
      ],
      "text/plain": [
       "       Atmospheric Density  Surface Temperature       Gravity  Water Content  \\\n",
       "count         57016.000000         56968.000000  57016.000000   56923.000000   \n",
       "mean              4.364641             5.503239      5.553408       0.480733   \n",
       "std               2.263527             1.936598      1.804605       0.139565   \n",
       "min               0.000000             0.000000      0.000000       0.000000   \n",
       "25%               2.809033             4.076741      4.274876       0.379871   \n",
       "50%               4.176173             5.173490      5.600108       0.480186   \n",
       "75%               5.672956             7.007173      6.809310       0.568429   \n",
       "max              13.688861            11.141621     11.584167       1.000000   \n",
       "\n",
       "       Mineral Abundance  Orbital Period  Proximity to Star  \\\n",
       "count       57079.000000    57003.000000       57055.000000   \n",
       "mean            0.476168        4.800003           4.537375   \n",
       "std             0.150592        1.511685           1.316682   \n",
       "min             0.000000        0.000000           0.000000   \n",
       "25%             0.375083        3.752127           3.600090   \n",
       "50%             0.479990        4.837698           4.475185   \n",
       "75%             0.578989        5.859846           5.425335   \n",
       "max             1.000000        9.912061           9.479886   \n",
       "\n",
       "       Magnetic Field Strength  Radiation Levels  \\\n",
       "count             56942.000000      56979.000000   \n",
       "mean                  9.449879          8.768810   \n",
       "std                   2.658860          2.234496   \n",
       "min                   1.000000          1.000000   \n",
       "25%                   8.000000          7.000000   \n",
       "50%                   9.000000          9.000000   \n",
       "75%                  11.000000         10.000000   \n",
       "max                  20.000000         20.000000   \n",
       "\n",
       "       Atmospheric Composition Index    Prediction  \n",
       "count                   57058.000000  56961.000000  \n",
       "mean                        0.509883      4.454381  \n",
       "std                         0.142531      2.890055  \n",
       "min                         0.000000      0.000000  \n",
       "25%                         0.419545      2.000000  \n",
       "50%                         0.516127      4.000000  \n",
       "75%                         0.610302      7.000000  \n",
       "max                         1.000000      9.000000  "
      ]
     },
     "execution_count": 41,
     "metadata": {},
     "output_type": "execute_result"
    }
   ],
   "source": [
    "df.describe()"
   ]
  },
  {
   "cell_type": "code",
   "execution_count": 42,
   "id": "2c0076c4-2cf4-4835-9d39-84f02a74bf5f",
   "metadata": {},
   "outputs": [
    {
     "name": "stdout",
     "output_type": "stream",
     "text": [
      "Rows with NaN values have been dropped (using manual iteration) and saved to 'final_cleaned_dataset.csv'.\n"
     ]
    }
   ],
   "source": [
    "rows_to_drop = []\n",
    "for index, row in df.iterrows():\n",
    "    if row.isnull().any():\n",
    "        rows_to_drop.append(index)\n",
    "\n",
    "df_clean_manual = df.drop(rows_to_drop)\n",
    "\n",
    "df_clean_manual.to_csv(\"final_cleaned_dataset.csv\", index=False)\n",
    "print(\"Rows with NaN values have been dropped (using manual iteration) and saved to 'final_cleaned_dataset.csv'.\")\n"
   ]
  },
  {
   "cell_type": "code",
   "execution_count": 44,
   "id": "200598ce-d484-4d98-b42a-f96356ddb7d1",
   "metadata": {},
   "outputs": [
    {
     "name": "stdout",
     "output_type": "stream",
     "text": [
      "<class 'pandas.core.frame.DataFrame'>\n",
      "Index: 34059 entries, 4 to 59999\n",
      "Data columns (total 11 columns):\n",
      " #   Column                         Non-Null Count  Dtype  \n",
      "---  ------                         --------------  -----  \n",
      " 0   Atmospheric Density            34059 non-null  float64\n",
      " 1   Surface Temperature            34059 non-null  float64\n",
      " 2   Gravity                        34059 non-null  float64\n",
      " 3   Water Content                  34059 non-null  float64\n",
      " 4   Mineral Abundance              34059 non-null  float64\n",
      " 5   Orbital Period                 34059 non-null  float64\n",
      " 6   Proximity to Star              34059 non-null  float64\n",
      " 7   Magnetic Field Strength        34059 non-null  float64\n",
      " 8   Radiation Levels               34059 non-null  float64\n",
      " 9   Atmospheric Composition Index  34059 non-null  float64\n",
      " 10  Prediction                     34059 non-null  float64\n",
      "dtypes: float64(11)\n",
      "memory usage: 3.1 MB\n"
     ]
    }
   ],
   "source": [
    "df_clean_manual.info()"
   ]
  },
  {
   "cell_type": "code",
   "execution_count": 45,
   "id": "9301d93a-0ebb-47cf-b047-b815b46b3913",
   "metadata": {},
   "outputs": [
    {
     "name": "stdout",
     "output_type": "stream",
     "text": [
      "Best Parameters: {'max_depth': None, 'min_samples_leaf': 1, 'min_samples_split': 2, 'n_estimators': 200}\n",
      "Best Cross-Validation Accuracy: 0.90\n",
      "Test Set Accuracy: 0.90\n",
      "Classification Report:\n",
      "               precision    recall  f1-score   support\n",
      "\n",
      "         0.0       0.96      0.94      0.95       663\n",
      "         1.0       0.96      0.97      0.96       771\n",
      "         2.0       0.92      0.92      0.92       682\n",
      "         3.0       0.86      0.87      0.86       700\n",
      "         4.0       0.85      0.85      0.85       664\n",
      "         5.0       0.86      0.88      0.87       607\n",
      "         6.0       0.94      0.95      0.95       676\n",
      "         7.0       0.93      0.93      0.93       697\n",
      "         8.0       0.87      0.85      0.86       666\n",
      "         9.0       0.81      0.82      0.81       686\n",
      "\n",
      "    accuracy                           0.90      6812\n",
      "   macro avg       0.90      0.90      0.90      6812\n",
      "weighted avg       0.90      0.90      0.90      6812\n",
      "\n"
     ]
    }
   ],
   "source": [
    "import pandas as pd\n",
    "from sklearn.model_selection import train_test_split, GridSearchCV\n",
    "from sklearn.ensemble import RandomForestClassifier\n",
    "from sklearn.metrics import classification_report, accuracy_score\n",
    "\n",
    "df = pd.read_csv(\"final_cleaned_dataset.csv\")\n",
    "X = df.drop(columns=[\"Prediction\"])\n",
    "y = df[\"Prediction\"]\n",
    "\n",
    "X_train, X_test, y_train, y_test = train_test_split(\n",
    "    X, y, test_size=0.2, random_state=42, stratify=y\n",
    ")\n",
    "\n",
    "rf = RandomForestClassifier(random_state=42)\n",
    "\n",
    "\n",
    "param_grid = {\n",
    "    'n_estimators': [100, 200, 300],        # number of trees\n",
    "    'max_depth': [None, 10, 20, 30],          # maximum depth of each tree\n",
    "    'min_samples_split': [2, 5, 10],          # minimum number of samples required to split an internal node\n",
    "    'min_samples_leaf': [1, 2, 4],            # minimum number of samples required to be at a leaf node\n",
    "}\n",
    "\n",
    "grid_search = GridSearchCV(\n",
    "    estimator=rf,\n",
    "    param_grid=param_grid,\n",
    "    cv=3,\n",
    "    n_jobs=-1,\n",
    "    scoring='accuracy'\n",
    ")\n",
    "\n",
    "grid_search.fit(X_train, y_train)\n",
    "\n",
    "print(\"Best Parameters:\", grid_search.best_params_)\n",
    "print(\"Best Cross-Validation Accuracy: {:.2f}\".format(grid_search.best_score_))\n",
    "\n",
    "best_rf = grid_search.best_estimator_\n",
    "\n",
    "y_pred = best_rf.predict(X_test)\n",
    "\n",
    "print(\"Test Set Accuracy: {:.2f}\".format(accuracy_score(y_test, y_pred)))\n",
    "print(\"Classification Report:\\n\", classification_report(y_test, y_pred))\n"
   ]
  },
  {
   "cell_type": "code",
   "execution_count": null,
   "id": "f29aaebb-722b-458a-9cce-77a31706f231",
   "metadata": {},
   "outputs": [],
   "source": []
  }
 ],
 "metadata": {
  "kernelspec": {
   "display_name": "Python 3",
   "language": "python",
   "name": "python3"
  },
  "language_info": {
   "codemirror_mode": {
    "name": "ipython",
    "version": 3
   },
   "file_extension": ".py",
   "mimetype": "text/x-python",
   "name": "python",
   "nbconvert_exporter": "python",
   "pygments_lexer": "ipython3",
   "version": "3.11.0"
  }
 },
 "nbformat": 4,
 "nbformat_minor": 5
}
